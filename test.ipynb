{
 "cells": [
  {
   "cell_type": "code",
   "execution_count": 1,
   "metadata": {},
   "outputs": [],
   "source": [
    "\n",
    "import mysql.connector\n",
    "\n",
    "# MySQL连接配置\n",
    "db_config = {\n",
    "    'host': 'localhost',\n",
    "    'user': 'root',\n",
    "    'password': '741953',\n",
    "    'database': 'submitreview'\n",
    "}\n",
    "\n",
    "drop_table_query = '''\n",
    "    DROP TABLE IF EXISTS documents\n",
    "'''\n",
    "\n",
    "# 创建表\n",
    "create_table_query = '''\n",
    "    CREATE TABLE IF NOT EXISTS documents (\n",
    "        id INT AUTO_INCREMENT PRIMARY KEY,\n",
    "        submitter VARCHAR(255),\n",
    "        completion_date DATE,\n",
    "        production_tool VARCHAR(255),\n",
    "        title VARCHAR(255),\n",
    "        introduction TEXT, \n",
    "        admin VARCHAR(255),\n",
    "        approval_status VARCHAR(255),\n",
    "        note TEXT,\n",
    "        submit_time DATETIME NOT NULL DEFAULT '0000-00-00 00:00:00',\n",
    "        approval_time DATETIME NOT NULL DEFAULT '0000-00-00 00:00:00'\n",
    "    )\n",
    "'''\n",
    "conn = mysql.connector.connect(**db_config)\n",
    "cursor = conn.cursor()\n",
    "\n",
    "cursor.execute(drop_table_query)\n",
    "conn.commit()\n",
    "\n",
    "cursor.execute(create_table_query)\n",
    "conn.commit()"
   ]
  },
  {
   "cell_type": "code",
   "execution_count": 2,
   "metadata": {},
   "outputs": [],
   "source": [
    "import qrcode\n",
    "\n",
    "def generate_qr_code(data):\n",
    "    qr = qrcode.QRCode(\n",
    "        version=1,\n",
    "        error_correction=qrcode.constants.ERROR_CORRECT_L,\n",
    "        box_size=10,\n",
    "        border=4,\n",
    "    )\n",
    "    qr.add_data(data)\n",
    "    qr.make(fit=True)\n",
    "    img = qr.make_image(fill='blue', back_color='white')\n",
    "    img.save('qrcode.png')  # 保存为本地文件\n",
    "    img.show()  # 显示二维码图像\n",
    "\n",
    "# 调用函数生成二维码\n",
    "generate_qr_code(\"Hello, world!\")"
   ]
  },
  {
   "cell_type": "code",
   "execution_count": 3,
   "metadata": {},
   "outputs": [],
   "source": [
    "\n",
    "# 表单数据字典\n",
    "form_data = {\n",
    "    'name': 'John Doe',\n",
    "    'email': 'johndoe@example.com',\n",
    "    'phone': '1234567890'\n",
    "}\n",
    "\n",
    "# 将表单数据转换为字符串\n",
    "data_string = '%'.join([f\"{key}: {value}\" for key, value in form_data.items()])\n",
    "\n",
    "# 调用函数生成二维码\n",
    "generate_qr_code(data_string)"
   ]
  },
  {
   "cell_type": "code",
   "execution_count": 18,
   "metadata": {},
   "outputs": [],
   "source": [
    "# 生成二维码\n",
    "\n",
    "import json\n",
    "import qrcode\n",
    "from docx import Document\n",
    "from docx.shared import Inches\n",
    "import io\n",
    "from docx.oxml import OxmlElement\n",
    "from docx.oxml.ns import qn\n",
    "\n",
    "def generate_qr_code(data):\n",
    "    qr = qrcode.QRCode(\n",
    "        version=1,\n",
    "        error_correction=qrcode.constants.ERROR_CORRECT_L,\n",
    "        box_size=10,\n",
    "        border=4,\n",
    "    )\n",
    "    qr.add_data(data)\n",
    "    qr.make(fit=True)\n",
    "    img = qr.make_image(fill=\"black\", back_color=\"white\")\n",
    "\n",
    "    return img\n",
    "\n",
    "\n",
    "form_data = {\n",
    "    \"成果申报人\": 111,\n",
    "    \"成果标题\": 222,\n",
    "    \"成果内容简介\": 333,\n",
    "    \"成果生产工具\": 444,\n",
    "    \"成果生成日期\": 555,\n",
    "}\n",
    "\n",
    "json_data = json.dumps(form_data, ensure_ascii=False)\n",
    "img = generate_qr_code(json_data)\n",
    "\n",
    "path= r'uploads\\submit\\wt_sgsd.docx'\n",
    "path= 'th_fg.docx'\n",
    "document = Document('aaa.docx')\n",
    "\n",
    "\n",
    "qr_stream = io.BytesIO()\n",
    "# 以PNG格式保存到二进制数据流qr_stream中\n",
    "img.save(qr_stream, format='PNG')\n",
    "\n",
    "# 写入指针移动到流的起始位置（偏移量为0）从流中读取整个图像数据\n",
    "qr_stream.seek(0)\n",
    "\n",
    "document.add_picture(qr_stream, width=Inches(0.5), height=Inches(0.5))\n",
    "\n",
    "document.save('output.docx')\n",
    "\n"
   ]
  },
  {
   "cell_type": "code",
   "execution_count": 7,
   "metadata": {},
   "outputs": [
    {
     "name": "stdout",
     "output_type": "stream",
     "text": [
      "[2024/07/17 00:02:42] ppocr DEBUG: Namespace(help='==SUPPRESS==', use_gpu=False, use_xpu=False, use_npu=False, use_mlu=False, ir_optim=True, use_tensorrt=False, min_subgraph_size=15, precision='fp32', gpu_mem=500, gpu_id=0, image_dir=None, page_num=0, det_algorithm='DB', det_model_dir='C:\\\\Users\\\\kyyo/.paddleocr/whl\\\\det\\\\ch\\\\ch_PP-OCRv4_det_infer', det_limit_side_len=960, det_limit_type='max', det_box_type='quad', det_db_thresh=0.3, det_db_box_thresh=0.6, det_db_unclip_ratio=1.5, max_batch_size=10, use_dilation=False, det_db_score_mode='fast', det_east_score_thresh=0.8, det_east_cover_thresh=0.1, det_east_nms_thresh=0.2, det_sast_score_thresh=0.5, det_sast_nms_thresh=0.2, det_pse_thresh=0, det_pse_box_thresh=0.85, det_pse_min_area=16, det_pse_scale=1, scales=[8, 16, 32], alpha=1.0, beta=1.0, fourier_degree=5, rec_algorithm='SVTR_LCNet', rec_model_dir='C:\\\\Users\\\\kyyo/.paddleocr/whl\\\\rec\\\\ch\\\\ch_PP-OCRv4_rec_infer', rec_image_inverse=True, rec_image_shape='3, 48, 320', rec_batch_num=6, max_text_length=25, rec_char_dict_path='C:\\\\Users\\\\kyyo\\\\AppData\\\\Roaming\\\\Python\\\\Python310\\\\site-packages\\\\paddleocr\\\\ppocr\\\\utils\\\\ppocr_keys_v1.txt', use_space_char=True, vis_font_path='./doc/fonts/simfang.ttf', drop_score=0.5, e2e_algorithm='PGNet', e2e_model_dir=None, e2e_limit_side_len=768, e2e_limit_type='max', e2e_pgnet_score_thresh=0.5, e2e_char_dict_path='./ppocr/utils/ic15_dict.txt', e2e_pgnet_valid_set='totaltext', e2e_pgnet_mode='fast', use_angle_cls=True, cls_model_dir='C:\\\\Users\\\\kyyo/.paddleocr/whl\\\\cls\\\\ch_ppocr_mobile_v2.0_cls_infer', cls_image_shape='3, 48, 192', label_list=['0', '180'], cls_batch_num=6, cls_thresh=0.9, enable_mkldnn=False, cpu_threads=10, use_pdserving=False, warmup=False, sr_model_dir=None, sr_image_shape='3, 32, 128', sr_batch_num=1, draw_img_save_dir='./inference_results', save_crop_res=False, crop_res_save_dir='./output', use_mp=False, total_process_num=1, process_id=0, benchmark=False, save_log_path='./log_output/', show_log=True, use_onnx=False, return_word_box=False, output='./output', table_max_len=488, table_algorithm='TableAttn', table_model_dir=None, merge_no_span_structure=True, table_char_dict_path=None, layout_model_dir=None, layout_dict_path=None, layout_score_threshold=0.5, layout_nms_threshold=0.5, kie_algorithm='LayoutXLM', ser_model_dir=None, re_model_dir=None, use_visual_backbone=True, ser_dict_path='../train_data/XFUND/class_list_xfun.txt', ocr_order_method=None, mode='structure', image_orientation=False, layout=True, table=True, ocr=True, recovery=False, use_pdf2docx_api=False, invert=False, binarize=False, alphacolor=(255, 255, 255), lang='ch', det=True, rec=True, type='ocr', savefile=False, ocr_version='PP-OCRv4', structure_version='PP-StructureV2')\n",
      "[2024/07/17 00:02:44] ppocr DEBUG: dt_boxes num : 4, elapsed : 0.5856163501739502\n",
      "[2024/07/17 00:02:44] ppocr DEBUG: cls num  : 4, elapsed : 0.07808208465576172\n",
      "[2024/07/17 00:02:45] ppocr DEBUG: rec_res num  : 4, elapsed : 0.7217350006103516\n",
      "[[[16.0, 12.0], [1268.0, 11.0], [1268.0, 42.0], [16.0, 43.0]], ('tips：识别结果为什么在一个总的列表外面又嵌套了一层列表呢？这是由于示例中待识别图片只有一', 0.9971824884414673)]\n",
      "[[[19.0, 60.0], [1246.0, 60.0], [1246.0, 87.0], [19.0, 87.0]], ('个文字区域，因此我们用result[oj来获取结果，如果图片中有多个文字区域，则会有多个结果列表', 0.9760857224464417)]\n",
      "[[[21.0, 110.0], [1190.0, 110.0], [1190.0, 131.0], [21.0, 131.0]], ('听以外面会套一层大的列表来包含各个文学区域的识别结果。通常情况下直接用resulto即可，', 0.9430190324783325)]\n",
      "[[[18.0, 153.0], [1284.0, 152.0], [1284.0, 179.0], [18.0, 181.0]], ('由于boxes、txts、scores混合在列表中不方面使用，这里我们在识别结果的基础上把三项内容提取出', 0.9951485991477966)]\n"
     ]
    }
   ],
   "source": [
    "from paddleocr import PaddleOCR\n",
    "\n",
    "ocr = PaddleOCR(use_angle_cls=True, lang=\"ch\")\n",
    "\n",
    "img_path = r\"orc.png\"\n",
    "\n",
    "result = ocr.ocr(img_path, cls=True)\n",
    "\n",
    "#结果输出展示：\n",
    "for line in result[0]:\n",
    "    print(line)\n",
    "    "
   ]
  },
  {
   "cell_type": "code",
   "execution_count": 8,
   "metadata": {},
   "outputs": [
    {
     "name": "stdout",
     "output_type": "stream",
     "text": [
      "111\n",
      "111\n",
      "111\n",
      "111\n",
      "[[[16.0, 12.0], [1268.0, 11.0], [1268.0, 42.0], [16.0, 43.0]], [[19.0, 60.0], [1246.0, 60.0], [1246.0, 87.0], [19.0, 87.0]], [[21.0, 110.0], [1190.0, 110.0], [1190.0, 131.0], [21.0, 131.0]], [[18.0, 153.0], [1284.0, 152.0], [1284.0, 179.0], [18.0, 181.0]]] ['tips：识别结果为什么在一个总的列表外面又嵌套了一层列表呢？这是由于示例中待识别图片只有一', '个文字区域，因此我们用result[oj来获取结果，如果图片中有多个文字区域，则会有多个结果列表', '听以外面会套一层大的列表来包含各个文学区域的识别结果。通常情况下直接用resulto即可，', '由于boxes、txts、scores混合在列表中不方面使用，这里我们在识别结果的基础上把三项内容提取出'] [0.9971824884414673, 0.9760857224464417, 0.9430190324783325, 0.9951485991477966]\n"
     ]
    }
   ],
   "source": [
    "boxes = []\n",
    "txts = []\n",
    "scores = []\n",
    "for line in result[0]:\n",
    "    print(111)\n",
    "    boxes.append(line[0])\n",
    "    txts.append(line[1][0])\n",
    "    scores.append(line[1][1])\n",
    "\n",
    "print(boxes, txts, scores)"
   ]
  }
 ],
 "metadata": {
  "kernelspec": {
   "display_name": "dev",
   "language": "python",
   "name": "python3"
  },
  "language_info": {
   "codemirror_mode": {
    "name": "ipython",
    "version": 3
   },
   "file_extension": ".py",
   "mimetype": "text/x-python",
   "name": "python",
   "nbconvert_exporter": "python",
   "pygments_lexer": "ipython3",
   "version": "3.10.14"
  }
 },
 "nbformat": 4,
 "nbformat_minor": 2
}
